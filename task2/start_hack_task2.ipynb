{
  "cells": [
    {
      "cell_type": "markdown",
      "metadata": {
        "id": "1VqjU_hHuLvY"
      },
      "source": [
        "## This notebook contains the preprocessing we did to extract the data for serving it to the frontend"
      ]
    },
    {
      "cell_type": "markdown",
      "metadata": {
        "id": "8A9F5eIAv05z"
      },
      "source": [
        "## Importing"
      ]
    },
    {
      "cell_type": "code",
      "execution_count": null,
      "metadata": {
        "colab": {
          "base_uri": "https://localhost:8080/",
          "height": 1000
        },
        "id": "hEqFKPeSuFZu",
        "outputId": "b29b4c14-6e11-4f3d-b605-7668f21bf4a2"
      },
      "outputs": [],
      "source": [
        "!pip install geemap"
      ]
    },
    {
      "cell_type": "code",
      "execution_count": null,
      "metadata": {
        "colab": {
          "base_uri": "https://localhost:8080/",
          "height": 216
        },
        "id": "P7MWsv6FvjHv",
        "outputId": "b3d746de-4312-4e49-8d1b-329e49c71668"
      },
      "outputs": [],
      "source": [
        "!pip install PyCRS"
      ]
    },
    {
      "cell_type": "code",
      "execution_count": null,
      "metadata": {
        "colab": {
          "base_uri": "https://localhost:8080/",
          "height": 17
        },
        "id": "oGaq7B-sOEK7",
        "outputId": "78e9b299-175e-443f-dc10-92ed46e87ec8"
      },
      "outputs": [
        {
          "data": {
            "text/html": [
              "\n",
              "            <style>\n",
              "                .geemap-dark {\n",
              "                    --jp-widgets-color: white;\n",
              "                    --jp-widgets-label-color: white;\n",
              "                    --jp-ui-font-color1: white;\n",
              "                    --jp-layout-color2: #454545;\n",
              "                    background-color: #383838;\n",
              "                }\n",
              "\n",
              "                .geemap-dark .jupyter-button {\n",
              "                    --jp-layout-color3: #383838;\n",
              "                }\n",
              "\n",
              "                .geemap-colab {\n",
              "                    background-color: var(--colab-primary-surface-color, white);\n",
              "                }\n",
              "\n",
              "                .geemap-colab .jupyter-button {\n",
              "                    --jp-layout-color3: var(--colab-primary-surface-color, white);\n",
              "                }\n",
              "            </style>\n",
              "            "
            ],
            "text/plain": [
              "<IPython.core.display.HTML object>"
            ]
          },
          "metadata": {},
          "output_type": "display_data"
        }
      ],
      "source": [
        "import geemap"
      ]
    },
    {
      "cell_type": "code",
      "execution_count": null,
      "metadata": {
        "colab": {
          "base_uri": "https://localhost:8080/",
          "height": 17
        },
        "id": "MXZGuLlXAGWt",
        "outputId": "3ca6b3af-d280-468f-c89a-d378a25d044d"
      },
      "outputs": [
        {
          "data": {
            "text/html": [
              "\n",
              "            <style>\n",
              "                .geemap-dark {\n",
              "                    --jp-widgets-color: white;\n",
              "                    --jp-widgets-label-color: white;\n",
              "                    --jp-ui-font-color1: white;\n",
              "                    --jp-layout-color2: #454545;\n",
              "                    background-color: #383838;\n",
              "                }\n",
              "\n",
              "                .geemap-dark .jupyter-button {\n",
              "                    --jp-layout-color3: #383838;\n",
              "                }\n",
              "\n",
              "                .geemap-colab {\n",
              "                    background-color: var(--colab-primary-surface-color, white);\n",
              "                }\n",
              "\n",
              "                .geemap-colab .jupyter-button {\n",
              "                    --jp-layout-color3: var(--colab-primary-surface-color, white);\n",
              "                }\n",
              "            </style>\n",
              "            "
            ],
            "text/plain": [
              "<IPython.core.display.HTML object>"
            ]
          },
          "metadata": {},
          "output_type": "display_data"
        }
      ],
      "source": [
        "import ee"
      ]
    },
    {
      "cell_type": "code",
      "execution_count": null,
      "metadata": {
        "colab": {
          "base_uri": "https://localhost:8080/",
          "height": 17
        },
        "id": "ICKZAwB8VWTT",
        "outputId": "3e4b61ad-e695-423f-fd61-fabdeb147238"
      },
      "outputs": [
        {
          "data": {
            "text/html": [
              "\n",
              "            <style>\n",
              "                .geemap-dark {\n",
              "                    --jp-widgets-color: white;\n",
              "                    --jp-widgets-label-color: white;\n",
              "                    --jp-ui-font-color1: white;\n",
              "                    --jp-layout-color2: #454545;\n",
              "                    background-color: #383838;\n",
              "                }\n",
              "\n",
              "                .geemap-dark .jupyter-button {\n",
              "                    --jp-layout-color3: #383838;\n",
              "                }\n",
              "\n",
              "                .geemap-colab {\n",
              "                    background-color: var(--colab-primary-surface-color, white);\n",
              "                }\n",
              "\n",
              "                .geemap-colab .jupyter-button {\n",
              "                    --jp-layout-color3: var(--colab-primary-surface-color, white);\n",
              "                }\n",
              "            </style>\n",
              "            "
            ],
            "text/plain": [
              "<IPython.core.display.HTML object>"
            ]
          },
          "metadata": {},
          "output_type": "display_data"
        }
      ],
      "source": [
        "import os"
      ]
    },
    {
      "cell_type": "code",
      "execution_count": null,
      "metadata": {
        "colab": {
          "base_uri": "https://localhost:8080/",
          "height": 17
        },
        "id": "XbmVg3N5lmkG",
        "outputId": "a199094e-d599-451d-a165-c08223e95a8d"
      },
      "outputs": [
        {
          "data": {
            "text/html": [
              "\n",
              "            <style>\n",
              "                .geemap-dark {\n",
              "                    --jp-widgets-color: white;\n",
              "                    --jp-widgets-label-color: white;\n",
              "                    --jp-ui-font-color1: white;\n",
              "                    --jp-layout-color2: #454545;\n",
              "                    background-color: #383838;\n",
              "                }\n",
              "\n",
              "                .geemap-dark .jupyter-button {\n",
              "                    --jp-layout-color3: #383838;\n",
              "                }\n",
              "\n",
              "                .geemap-colab {\n",
              "                    background-color: var(--colab-primary-surface-color, white);\n",
              "                }\n",
              "\n",
              "                .geemap-colab .jupyter-button {\n",
              "                    --jp-layout-color3: var(--colab-primary-surface-color, white);\n",
              "                }\n",
              "            </style>\n",
              "            "
            ],
            "text/plain": [
              "<IPython.core.display.HTML object>"
            ]
          },
          "metadata": {},
          "output_type": "display_data"
        }
      ],
      "source": [
        "import geopandas"
      ]
    },
    {
      "cell_type": "code",
      "execution_count": null,
      "metadata": {
        "colab": {
          "base_uri": "https://localhost:8080/",
          "height": 17
        },
        "id": "3OfAzWltLaHx",
        "outputId": "b8d54dc9-0aba-439b-d2de-c0d09b46ca10"
      },
      "outputs": [
        {
          "data": {
            "text/html": [
              "\n",
              "            <style>\n",
              "                .geemap-dark {\n",
              "                    --jp-widgets-color: white;\n",
              "                    --jp-widgets-label-color: white;\n",
              "                    --jp-ui-font-color1: white;\n",
              "                    --jp-layout-color2: #454545;\n",
              "                    background-color: #383838;\n",
              "                }\n",
              "\n",
              "                .geemap-dark .jupyter-button {\n",
              "                    --jp-layout-color3: #383838;\n",
              "                }\n",
              "\n",
              "                .geemap-colab {\n",
              "                    background-color: var(--colab-primary-surface-color, white);\n",
              "                }\n",
              "\n",
              "                .geemap-colab .jupyter-button {\n",
              "                    --jp-layout-color3: var(--colab-primary-surface-color, white);\n",
              "                }\n",
              "            </style>\n",
              "            "
            ],
            "text/plain": [
              "<IPython.core.display.HTML object>"
            ]
          },
          "metadata": {},
          "output_type": "display_data"
        }
      ],
      "source": [
        "from geemap import geojson_to_ee, ee_to_geojson"
      ]
    },
    {
      "cell_type": "markdown",
      "metadata": {
        "id": "wN-7YePVUg7I"
      },
      "source": [
        "\n",
        "2.   Authentication with Earth Engine is required to connect your project with Earth Engine\n",
        "\n"
      ]
    },
    {
      "cell_type": "markdown",
      "metadata": {
        "id": "7enqPYsTVMXD"
      },
      "source": [
        "Run the ee.Authenticate function to authenticate your access to Earth Engine servers and ee.Initialize to initialize it. Upon running the following cell you'll be asked to grant Earth Engine access to your Google account. More at: https://developers.google.com/earth-engine/guides/python_install\n",
        "\n",
        "In case ee.Initialize() is not running, you need to create your own cloud EE project and enable API direclty to allow Colab to use EE features through this link: https://developers.google.com/earth-engine/cloud/earthengine_cloud_project_setup (follow the link on the section \"Create a Cloud project\" then proceed with the next section \"Enable the Earth Engine API\")"
      ]
    },
    {
      "cell_type": "code",
      "execution_count": null,
      "metadata": {
        "colab": {
          "base_uri": "https://localhost:8080/",
          "height": 17
        },
        "id": "M9J21sf3AIkX",
        "outputId": "0d64f0ed-3656-4d97-82c0-7729b8fc8c38"
      },
      "outputs": [
        {
          "data": {
            "text/html": [
              "\n",
              "            <style>\n",
              "                .geemap-dark {\n",
              "                    --jp-widgets-color: white;\n",
              "                    --jp-widgets-label-color: white;\n",
              "                    --jp-ui-font-color1: white;\n",
              "                    --jp-layout-color2: #454545;\n",
              "                    background-color: #383838;\n",
              "                }\n",
              "\n",
              "                .geemap-dark .jupyter-button {\n",
              "                    --jp-layout-color3: #383838;\n",
              "                }\n",
              "\n",
              "                .geemap-colab {\n",
              "                    background-color: var(--colab-primary-surface-color, white);\n",
              "                }\n",
              "\n",
              "                .geemap-colab .jupyter-button {\n",
              "                    --jp-layout-color3: var(--colab-primary-surface-color, white);\n",
              "                }\n",
              "            </style>\n",
              "            "
            ],
            "text/plain": [
              "<IPython.core.display.HTML object>"
            ]
          },
          "metadata": {},
          "output_type": "display_data"
        }
      ],
      "source": [
        "ee.Authenticate()"
      ]
    },
    {
      "cell_type": "code",
      "execution_count": null,
      "metadata": {
        "colab": {
          "base_uri": "https://localhost:8080/",
          "height": 17
        },
        "id": "qog0xzLCAUJu",
        "outputId": "8cbdfdcb-1f1e-4a09-b13e-3757364fa8e8"
      },
      "outputs": [
        {
          "data": {
            "text/html": [
              "\n",
              "            <style>\n",
              "                .geemap-dark {\n",
              "                    --jp-widgets-color: white;\n",
              "                    --jp-widgets-label-color: white;\n",
              "                    --jp-ui-font-color1: white;\n",
              "                    --jp-layout-color2: #454545;\n",
              "                    background-color: #383838;\n",
              "                }\n",
              "\n",
              "                .geemap-dark .jupyter-button {\n",
              "                    --jp-layout-color3: #383838;\n",
              "                }\n",
              "\n",
              "                .geemap-colab {\n",
              "                    background-color: var(--colab-primary-surface-color, white);\n",
              "                }\n",
              "\n",
              "                .geemap-colab .jupyter-button {\n",
              "                    --jp-layout-color3: var(--colab-primary-surface-color, white);\n",
              "                }\n",
              "            </style>\n",
              "            "
            ],
            "text/plain": [
              "<IPython.core.display.HTML object>"
            ]
          },
          "metadata": {},
          "output_type": "display_data"
        }
      ],
      "source": [
        "ee.Initialize (project=\"master-mote-417820\")"
      ]
    },
    {
      "cell_type": "code",
      "execution_count": null,
      "metadata": {
        "id": "6KV5lUJVnXEa"
      },
      "outputs": [],
      "source": []
    },
    {
      "cell_type": "markdown",
      "metadata": {
        "id": "lpjXwgi0crFK"
      },
      "source": [
        "Alternatively: Open GEE Code Editor https://code.earthengine.google.com/, set up your own project manually (set up a non commerciable project) and enable permission for the GEE APIs for Colab.\n",
        "\n",
        "\n",
        "```\n",
        "ee.Initialize (project='your project name')\n",
        "```\n",
        "\n"
      ]
    },
    {
      "cell_type": "markdown",
      "metadata": {
        "id": "dzXPNW_LVYJR"
      },
      "source": [
        "\n",
        "\n",
        "---\n",
        "\n"
      ]
    },
    {
      "cell_type": "markdown",
      "metadata": {
        "id": "np5XRuWmVa-P"
      },
      "source": [
        "Now let's start with basic vizualization process, first you will be asked to upload the batch of shapefiles provided to you in your local file folder in collab. The Brazil.shp file serves as the official country boundary of our area of interest."
      ]
    },
    {
      "cell_type": "code",
      "execution_count": 84,
      "metadata": {
        "colab": {
          "base_uri": "https://localhost:8080/",
          "height": 17
        },
        "id": "9HfoaCXgklDs",
        "outputId": "cfffeacc-1877-482d-84a8-6519ba94af0a"
      },
      "outputs": [
        {
          "data": {
            "text/html": [
              "\n",
              "            <style>\n",
              "                .geemap-dark {\n",
              "                    --jp-widgets-color: white;\n",
              "                    --jp-widgets-label-color: white;\n",
              "                    --jp-ui-font-color1: white;\n",
              "                    --jp-layout-color2: #454545;\n",
              "                    background-color: #383838;\n",
              "                }\n",
              "\n",
              "                .geemap-dark .jupyter-button {\n",
              "                    --jp-layout-color3: #383838;\n",
              "                }\n",
              "\n",
              "                .geemap-colab {\n",
              "                    background-color: var(--colab-primary-surface-color, white);\n",
              "                }\n",
              "\n",
              "                .geemap-colab .jupyter-button {\n",
              "                    --jp-layout-color3: var(--colab-primary-surface-color, white);\n",
              "                }\n",
              "            </style>\n",
              "            "
            ],
            "text/plain": [
              "<IPython.core.display.HTML object>"
            ]
          },
          "metadata": {},
          "output_type": "display_data"
        }
      ],
      "source": [
        "brazil_shapefile = geemap.shp_to_ee('/content/Brazil.shp')"
      ]
    },
    {
      "cell_type": "markdown",
      "metadata": {
        "id": "xJGrmfaWqsc7"
      },
      "source": [
        "## We calculate burned area per Land type"
      ]
    },
    {
      "cell_type": "code",
      "execution_count": null,
      "metadata": {
        "colab": {
          "base_uri": "https://localhost:8080/",
          "height": 17
        },
        "id": "aTbBG721fcAa",
        "outputId": "f4e1ba4f-f48f-44a8-f170-e99d3526cde9"
      },
      "outputs": [
        {
          "data": {
            "text/html": [
              "\n",
              "            <style>\n",
              "                .geemap-dark {\n",
              "                    --jp-widgets-color: white;\n",
              "                    --jp-widgets-label-color: white;\n",
              "                    --jp-ui-font-color1: white;\n",
              "                    --jp-layout-color2: #454545;\n",
              "                    background-color: #383838;\n",
              "                }\n",
              "\n",
              "                .geemap-dark .jupyter-button {\n",
              "                    --jp-layout-color3: #383838;\n",
              "                }\n",
              "\n",
              "                .geemap-colab {\n",
              "                    background-color: var(--colab-primary-surface-color, white);\n",
              "                }\n",
              "\n",
              "                .geemap-colab .jupyter-button {\n",
              "                    --jp-layout-color3: var(--colab-primary-surface-color, white);\n",
              "                }\n",
              "            </style>\n",
              "            "
            ],
            "text/plain": [
              "<IPython.core.display.HTML object>"
            ]
          },
          "metadata": {},
          "output_type": "display_data"
        }
      ],
      "source": [
        "land_cover_mapping = {\n",
        "    0: \"Water\",\n",
        "    1: \"Evergreen Needleleaf Forest\",\n",
        "    2: \"Evergreen Broadleaf Forest\",\n",
        "    3: \"Deciduous Needleleaf Forest\",\n",
        "    4: \"Deciduous Broadleaf Forest\",\n",
        "    5: \"Mixed Forest\",\n",
        "    6: \"Closed Shrublands\",\n",
        "    7: \"Open Shrublands\",\n",
        "    8: \"Woody Savannas\",\n",
        "    9: \"Savannas\",\n",
        "    10: \"Grasslands\",\n",
        "    11: \"Permanent Wetlands\",\n",
        "    12: \"Croplands\",\n",
        "    13: \"Urban and Built-up\",\n",
        "    14: \"Cropland/Natural Vegetation Mosaic\",\n",
        "    15: \"Snow and Ice\",\n",
        "    16: \"Barren or Sparsely Vegetated\",\n",
        "    254: \"Unclassified\"\n",
        "}"
      ]
    },
    {
      "cell_type": "code",
      "execution_count": null,
      "metadata": {
        "colab": {
          "base_uri": "https://localhost:8080/",
          "height": 213
        },
        "id": "rw2VOjrSenB0",
        "outputId": "0bc10233-e5ed-4541-ba66-9378e2824d90"
      },
      "outputs": [
        {
          "data": {
            "text/html": [
              "\n",
              "            <style>\n",
              "                .geemap-dark {\n",
              "                    --jp-widgets-color: white;\n",
              "                    --jp-widgets-label-color: white;\n",
              "                    --jp-ui-font-color1: white;\n",
              "                    --jp-layout-color2: #454545;\n",
              "                    background-color: #383838;\n",
              "                }\n",
              "\n",
              "                .geemap-dark .jupyter-button {\n",
              "                    --jp-layout-color3: #383838;\n",
              "                }\n",
              "\n",
              "                .geemap-colab {\n",
              "                    background-color: var(--colab-primary-surface-color, white);\n",
              "                }\n",
              "\n",
              "                .geemap-colab .jupyter-button {\n",
              "                    --jp-layout-color3: var(--colab-primary-surface-color, white);\n",
              "                }\n",
              "            </style>\n",
              "            "
            ],
            "text/plain": [
              "<IPython.core.display.HTML object>"
            ]
          },
          "metadata": {},
          "output_type": "display_data"
        },
        {
          "name": "stdout",
          "output_type": "stream",
          "text": [
            "Processed year 2001\n",
            "Processed year 2002\n",
            "Processed year 2003\n",
            "Processed year 2004\n",
            "Processed year 2005\n",
            "Processed year 2006\n",
            "Processed year 2007\n",
            "Processed year 2008\n",
            "Processed year 2009\n",
            "Processed year 2010\n",
            "Processed year 2011\n"
          ]
        }
      ],
      "source": [
        "import ee\n",
        "import geemap\n",
        "import json\n",
        "\n",
        "# Initialize the Earth Engine\n",
        "ee.Initialize()\n",
        "\n",
        "# Function to perform analysis for a given year\n",
        "def analyze_year(year):\n",
        "    # Load Land Cover for the given year\n",
        "    landCover = ee.Image(f'MODIS/006/MCD12Q1/{year}_01_01').select('LC_Type1').clip(fc)\n",
        "\n",
        "    totalLandCoverStats = landCover.reduceRegion(\n",
        "        reducer=ee.Reducer.frequencyHistogram(),\n",
        "        geometry=fc.geometry(),\n",
        "        scale=500,  # Scale in meters; adjust as needed for your analysis\n",
        "        maxPixels=1e9\n",
        "    ).getInfo()['LC_Type1']\n",
        "\n",
        "    # Adjust the filter date range according to the year\n",
        "    startDate = f'{year}-01-01'\n",
        "    endDate = f'{year+1}-01-01'  # Assuming you want to cover the whole year\n",
        "\n",
        "    # Define the dataset for burned areas and clip it to Brazil\n",
        "    burnedArea = ee.ImageCollection('MODIS/061/MCD64A1') \\\n",
        "        .filter(ee.Filter.date(startDate, endDate)) \\\n",
        "        .select('BurnDate') \\\n",
        "        .map(lambda img: img.clip(fc)) \\\n",
        "        .reduce(ee.Reducer.sum())\n",
        "\n",
        "    combinedBurnedArea = burnedArea\n",
        "\n",
        "    # Mask the land cover image with the burned area data\n",
        "    maskedLandCover = landCover.updateMask(combinedBurnedArea.gt(0))\n",
        "\n",
        "    # Calculate the burned area for each land cover type\n",
        "    burnedAreaByLandCover = maskedLandCover.reduceRegion(\n",
        "        reducer=ee.Reducer.frequencyHistogram(),\n",
        "        geometry=fc.geometry(),\n",
        "        scale=500,\n",
        "        maxPixels=1e9\n",
        "    )\n",
        "\n",
        "    # Fetch the results\n",
        "    burnedAreaStats = burnedAreaByLandCover.getInfo()['LC_Type1']\n",
        "\n",
        "    # Convert pixel counts to hectares (assuming 25 ha per pixel)\n",
        "    burnedAreaStats_hectares = {\n",
        "    lc_type: {\n",
        "        \"burned_hectars\": int(pixel_count * 25),\n",
        "        \"total_land_cover_hectares\": int(totalLandCoverStats.get(str(lc_type), 0) * 25),\n",
        "        \"name\": land_cover_mapping.get(int(lc_type), \"Unknown Land Cover Type\")\n",
        "    } for lc_type, pixel_count in burnedAreaStats.items()\n",
        "}\n",
        "    return burnedAreaStats_hectares\n",
        "\n",
        "# Initialize an empty dictionary to store results\n",
        "yearly_results = {}\n",
        "\n",
        "# Loop through each year and perform analysis\n",
        "for year in range(2001, 2021):  # Adjust as needed\n",
        "    yearly_results[year] = analyze_year(year)\n",
        "    print(f\"Processed year {year}\")\n",
        "\n",
        "# Convert the dictionary to JSON\n",
        "json_output = json.dumps(yearly_results, indent=2)\n",
        "print(json_output)\n",
        "\n",
        "# Optionally, save the JSON to a file\n",
        "with open('land_cover_burned_area_stats.json', 'w') as f:\n",
        "    json.dump(yearly_results, f, indent=2)\n"
      ]
    },
    {
      "cell_type": "markdown",
      "metadata": {
        "id": "CxCuhUm5uVo6"
      },
      "source": [
        "## We calculate biomes land coverage"
      ]
    },
    {
      "cell_type": "code",
      "execution_count": null,
      "metadata": {
        "colab": {
          "base_uri": "https://localhost:8080/",
          "height": 647
        },
        "id": "7vpoX4UGydcF",
        "outputId": "5a3b4afe-1969-4a8f-afde-dda2b183ab45"
      },
      "outputs": [],
      "source": [
        "biomes_shp_path = '/content/Brazil_biomes.shp'  # Adjust this path to your shapefile's location\n",
        "\n",
        "# Convert the shapefile to an ee.FeatureCollection\n",
        "biomes = geemap.shp_to_ee(biomes_shp_path)\n",
        "biomes"
      ]
    },
    {
      "cell_type": "code",
      "execution_count": null,
      "metadata": {
        "colab": {
          "base_uri": "https://localhost:8080/",
          "height": 1000
        },
        "id": "OKfxtruMy7oz",
        "outputId": "042fc773-1dd0-4932-f3f5-5c8345184b6e"
      },
      "outputs": [
        {
          "data": {
            "text/html": [
              "\n",
              "            <style>\n",
              "                .geemap-dark {\n",
              "                    --jp-widgets-color: white;\n",
              "                    --jp-widgets-label-color: white;\n",
              "                    --jp-ui-font-color1: white;\n",
              "                    --jp-layout-color2: #454545;\n",
              "                    background-color: #383838;\n",
              "                }\n",
              "\n",
              "                .geemap-dark .jupyter-button {\n",
              "                    --jp-layout-color3: #383838;\n",
              "                }\n",
              "\n",
              "                .geemap-colab {\n",
              "                    background-color: var(--colab-primary-surface-color, white);\n",
              "                }\n",
              "\n",
              "                .geemap-colab .jupyter-button {\n",
              "                    --jp-layout-color3: var(--colab-primary-surface-color, white);\n",
              "                }\n",
              "            </style>\n",
              "            "
            ],
            "text/plain": [
              "<IPython.core.display.HTML object>"
            ]
          },
          "metadata": {},
          "output_type": "display_data"
        },
        {
          "name": "stdout",
          "output_type": "stream",
          "text": [
            "Processed year 2010 for biome 0\n",
            "Processed year 2010 for biome 1\n",
            "Processed year 2010 for biome 2\n",
            "Processed year 2010 for biome 3\n",
            "Processed year 2010 for biome 4\n",
            "Processed year 2010 for biome 5\n",
            "Processed year 2011 for biome 0\n",
            "Processed year 2011 for biome 1\n",
            "Processed year 2011 for biome 2\n",
            "Processed year 2011 for biome 3\n",
            "Processed year 2011 for biome 4\n",
            "Processed year 2011 for biome 5\n",
            "Processed year 2012 for biome 0\n",
            "Processed year 2012 for biome 1\n",
            "Processed year 2012 for biome 2\n",
            "Processed year 2012 for biome 3\n",
            "Processed year 2012 for biome 4\n",
            "Processed year 2012 for biome 5\n",
            "Processed year 2013 for biome 0\n",
            "Processed year 2013 for biome 1\n",
            "Processed year 2013 for biome 2\n",
            "Processed year 2013 for biome 3\n",
            "Processed year 2013 for biome 4\n",
            "Processed year 2013 for biome 5\n",
            "Processed year 2014 for biome 0\n",
            "Processed year 2014 for biome 1\n",
            "Processed year 2014 for biome 2\n",
            "Processed year 2014 for biome 3\n",
            "Processed year 2014 for biome 4\n",
            "Processed year 2014 for biome 5\n",
            "Processed year 2015 for biome 0\n",
            "Processed year 2015 for biome 1\n",
            "Processed year 2015 for biome 2\n",
            "Processed year 2015 for biome 3\n",
            "Processed year 2015 for biome 4\n",
            "Processed year 2015 for biome 5\n",
            "Processed year 2016 for biome 0\n",
            "Processed year 2016 for biome 1\n",
            "Processed year 2016 for biome 2\n",
            "Processed year 2016 for biome 3\n",
            "Processed year 2016 for biome 4\n",
            "Processed year 2016 for biome 5\n",
            "Processed year 2017 for biome 0\n",
            "Processed year 2017 for biome 1\n",
            "Processed year 2017 for biome 2\n",
            "Processed year 2017 for biome 3\n",
            "Processed year 2017 for biome 4\n",
            "Processed year 2017 for biome 5\n",
            "Processed year 2018 for biome 0\n",
            "Processed year 2018 for biome 1\n",
            "Processed year 2018 for biome 2\n",
            "Processed year 2018 for biome 3\n",
            "Processed year 2018 for biome 4\n",
            "Processed year 2018 for biome 5\n",
            "Processed year 2019 for biome 0\n",
            "Processed year 2019 for biome 1\n",
            "Processed year 2019 for biome 2\n",
            "Processed year 2019 for biome 3\n",
            "Processed year 2019 for biome 4\n",
            "Processed year 2019 for biome 5\n",
            "Processed year 2020 for biome 0\n",
            "Processed year 2020 for biome 1\n",
            "Processed year 2020 for biome 2\n",
            "Processed year 2020 for biome 3\n",
            "Processed year 2020 for biome 4\n",
            "Processed year 2020 for biome 5\n",
            "[\n",
            "  {\n",
            "    \"biome_id\": \"0\",\n",
            "    \"total_burned_area_hectares\": 731597.4640627956,\n",
            "    \"total_land_cover_area_hectares\": 82652059.56128532\n",
            "  },\n",
            "  {\n",
            "    \"biome_id\": \"1\",\n",
            "    \"total_burned_area_hectares\": 24736768.802607108,\n",
            "    \"total_land_cover_area_hectares\": 203936759.69174582\n",
            "  },\n",
            "  {\n",
            "    \"biome_id\": \"2\",\n",
            "    \"total_burned_area_hectares\": 1469960.042336476,\n",
            "    \"total_land_cover_area_hectares\": 15131122.855270993\n",
            "  },\n",
            "  {\n",
            "    \"biome_id\": \"3\",\n",
            "    \"total_burned_area_hectares\": 16354.655783645832,\n",
            "    \"total_land_cover_area_hectares\": 17776203.982418653\n",
            "  },\n",
            "  {\n",
            "    \"biome_id\": \"4\",\n",
            "    \"total_burned_area_hectares\": 7571498.629839837,\n",
            "    \"total_land_cover_area_hectares\": 418244664.6811728\n",
            "  },\n",
            "  {\n",
            "    \"biome_id\": \"5\",\n",
            "    \"total_burned_area_hectares\": 1441811.6235492206,\n",
            "    \"total_land_cover_area_hectares\": 110612321.45769621\n",
            "  },\n",
            "  {\n",
            "    \"biome_id\": \"0\",\n",
            "    \"total_burned_area_hectares\": 391199.029144636,\n",
            "    \"total_land_cover_area_hectares\": 82652059.56128532\n",
            "  },\n",
            "  {\n",
            "    \"biome_id\": \"1\",\n",
            "    \"total_burned_area_hectares\": 9470702.83664373,\n",
            "    \"total_land_cover_area_hectares\": 203936759.69174582\n",
            "  },\n",
            "  {\n",
            "    \"biome_id\": \"2\",\n",
            "    \"total_burned_area_hectares\": 529052.6710710868,\n",
            "    \"total_land_cover_area_hectares\": 15131122.855270993\n",
            "  },\n",
            "  {\n",
            "    \"biome_id\": \"3\",\n",
            "    \"total_burned_area_hectares\": 11229.477234056367,\n",
            "    \"total_land_cover_area_hectares\": 17776203.982418653\n",
            "  },\n",
            "  {\n",
            "    \"biome_id\": \"4\",\n",
            "    \"total_burned_area_hectares\": 2279336.461917909,\n",
            "    \"total_land_cover_area_hectares\": 418244664.6811728\n",
            "  },\n",
            "  {\n",
            "    \"biome_id\": \"5\",\n",
            "    \"total_burned_area_hectares\": 1270232.861559641,\n",
            "    \"total_land_cover_area_hectares\": 110612321.45769621\n",
            "  },\n",
            "  {\n",
            "    \"biome_id\": \"0\",\n",
            "    \"total_burned_area_hectares\": 688625.7863694928,\n",
            "    \"total_land_cover_area_hectares\": 82652059.56128532\n",
            "  },\n",
            "  {\n",
            "    \"biome_id\": \"1\",\n",
            "    \"total_burned_area_hectares\": 17512871.79134766,\n",
            "    \"total_land_cover_area_hectares\": 203936759.69174582\n",
            "  },\n",
            "  {\n",
            "    \"biome_id\": \"2\",\n",
            "    \"total_burned_area_hectares\": 1202691.0775243992,\n",
            "    \"total_land_cover_area_hectares\": 15131122.855270993\n",
            "  },\n",
            "  {\n",
            "    \"biome_id\": \"3\",\n",
            "    \"total_burned_area_hectares\": 16958.384340808843,\n",
            "    \"total_land_cover_area_hectares\": 17776203.982418653\n",
            "  },\n",
            "  {\n",
            "    \"biome_id\": \"4\",\n",
            "    \"total_burned_area_hectares\": 3474492.6323072608,\n",
            "    \"total_land_cover_area_hectares\": 418244664.6811728\n",
            "  },\n",
            "  {\n",
            "    \"biome_id\": \"5\",\n",
            "    \"total_burned_area_hectares\": 916614.4546811738,\n",
            "    \"total_land_cover_area_hectares\": 110612321.45769621\n",
            "  },\n",
            "  {\n",
            "    \"biome_id\": \"0\",\n",
            "    \"total_burned_area_hectares\": 177216.85187988408,\n",
            "    \"total_land_cover_area_hectares\": 82652059.56128532\n",
            "  },\n",
            "  {\n",
            "    \"biome_id\": \"1\",\n",
            "    \"total_burned_area_hectares\": 6547533.237194546,\n",
            "    \"total_land_cover_area_hectares\": 203936759.69174582\n",
            "  },\n",
            "  {\n",
            "    \"biome_id\": \"2\",\n",
            "    \"total_burned_area_hectares\": 502106.7974341186,\n",
            "    \"total_land_cover_area_hectares\": 15131122.855270993\n",
            "  },\n",
            "  {\n",
            "    \"biome_id\": \"3\",\n",
            "    \"total_burned_area_hectares\": 24883.305491966883,\n",
            "    \"total_land_cover_area_hectares\": 17776203.982418653\n",
            "  },\n",
            "  {\n",
            "    \"biome_id\": \"4\",\n",
            "    \"total_burned_area_hectares\": 1711683.713124562,\n",
            "    \"total_land_cover_area_hectares\": 418244664.6811728\n",
            "  },\n",
            "  {\n",
            "    \"biome_id\": \"5\",\n",
            "    \"total_burned_area_hectares\": 660067.0058514214,\n",
            "    \"total_land_cover_area_hectares\": 110612321.45769621\n",
            "  },\n",
            "  {\n",
            "    \"biome_id\": \"0\",\n",
            "    \"total_burned_area_hectares\": 263137.09718341473,\n",
            "    \"total_land_cover_area_hectares\": 82652059.56128532\n",
            "  },\n",
            "  {\n",
            "    \"biome_id\": \"1\",\n",
            "    \"total_burned_area_hectares\": 11323616.205483347,\n",
            "    \"total_land_cover_area_hectares\": 203936759.69174582\n",
            "  },\n",
            "  {\n",
            "    \"biome_id\": \"2\",\n",
            "    \"total_burned_area_hectares\": 136780.6552207534,\n",
            "    \"total_land_cover_area_hectares\": 15131122.855270993\n",
            "  },\n",
            "  {\n",
            "    \"biome_id\": \"3\",\n",
            "    \"total_burned_area_hectares\": 8934.03387745711,\n",
            "    \"total_land_cover_area_hectares\": 17776203.982418653\n",
            "  },\n",
            "  {\n",
            "    \"biome_id\": \"4\",\n",
            "    \"total_burned_area_hectares\": 3062714.9192821924,\n",
            "    \"total_land_cover_area_hectares\": 418244664.6811728\n",
            "  },\n",
            "  {\n",
            "    \"biome_id\": \"5\",\n",
            "    \"total_burned_area_hectares\": 823569.5684025096,\n",
            "    \"total_land_cover_area_hectares\": 110612321.45769621\n",
            "  },\n",
            "  {\n",
            "    \"biome_id\": \"0\",\n",
            "    \"total_burned_area_hectares\": 588547.012344097,\n",
            "    \"total_land_cover_area_hectares\": 82652059.56128532\n",
            "  },\n",
            "  {\n",
            "    \"biome_id\": \"1\",\n",
            "    \"total_burned_area_hectares\": 12360254.002493452,\n",
            "    \"total_land_cover_area_hectares\": 203936759.69174582\n",
            "  },\n",
            "  {\n",
            "    \"biome_id\": \"2\",\n",
            "    \"total_burned_area_hectares\": 646588.6999134086,\n",
            "    \"total_land_cover_area_hectares\": 15131122.855270993\n",
            "  },\n",
            "  {\n",
            "    \"biome_id\": \"3\",\n",
            "    \"total_burned_area_hectares\": 21183.0895941728,\n",
            "    \"total_land_cover_area_hectares\": 17776203.982418653\n",
            "  },\n",
            "  {\n",
            "    \"biome_id\": \"4\",\n",
            "    \"total_burned_area_hectares\": 5359443.629154901,\n",
            "    \"total_land_cover_area_hectares\": 418244664.6811728\n",
            "  },\n",
            "  {\n",
            "    \"biome_id\": \"5\",\n",
            "    \"total_burned_area_hectares\": 826746.5553241667,\n",
            "    \"total_land_cover_area_hectares\": 110612321.45769621\n",
            "  },\n",
            "  {\n",
            "    \"biome_id\": \"0\",\n",
            "    \"total_burned_area_hectares\": 490831.06137553556,\n",
            "    \"total_land_cover_area_hectares\": 82652059.56128532\n",
            "  },\n",
            "  {\n",
            "    \"biome_id\": \"1\",\n",
            "    \"total_burned_area_hectares\": 10027694.566677324,\n",
            "    \"total_land_cover_area_hectares\": 203936759.69174582\n",
            "  },\n",
            "  {\n",
            "    \"biome_id\": \"2\",\n",
            "    \"total_burned_area_hectares\": 869366.5015091873,\n",
            "    \"total_land_cover_area_hectares\": 15131122.855270993\n",
            "  },\n",
            "  {\n",
            "    \"biome_id\": \"3\",\n",
            "    \"total_burned_area_hectares\": 34537.84480150112,\n",
            "    \"total_land_cover_area_hectares\": 17776203.982418653\n",
            "  },\n",
            "  {\n",
            "    \"biome_id\": \"4\",\n",
            "    \"total_burned_area_hectares\": 3491231.636595614,\n",
            "    \"total_land_cover_area_hectares\": 418244664.6811728\n",
            "  },\n",
            "  {\n",
            "    \"biome_id\": \"5\",\n",
            "    \"total_burned_area_hectares\": 720486.202966339,\n",
            "    \"total_land_cover_area_hectares\": 110612321.45769621\n",
            "  },\n",
            "  {\n",
            "    \"biome_id\": \"0\",\n",
            "    \"total_burned_area_hectares\": 307229.3288005331,\n",
            "    \"total_land_cover_area_hectares\": 82652059.56128532\n",
            "  },\n",
            "  {\n",
            "    \"biome_id\": \"1\",\n",
            "    \"total_burned_area_hectares\": 12609283.550808527,\n",
            "    \"total_land_cover_area_hectares\": 203936759.69174582\n",
            "  },\n",
            "  {\n",
            "    \"biome_id\": \"2\",\n",
            "    \"total_burned_area_hectares\": 772596.1139710303,\n",
            "    \"total_land_cover_area_hectares\": 15131122.855270993\n",
            "  },\n",
            "  {\n",
            "    \"biome_id\": \"3\",\n",
            "    \"total_burned_area_hectares\": 25457.276634558853,\n",
            "    \"total_land_cover_area_hectares\": 17776203.982418653\n",
            "  },\n",
            "  {\n",
            "    \"biome_id\": \"4\",\n",
            "    \"total_burned_area_hectares\": 5844681.640305204,\n",
            "    \"total_land_cover_area_hectares\": 418244664.6811728\n",
            "  },\n",
            "  {\n",
            "    \"biome_id\": \"5\",\n",
            "    \"total_burned_area_hectares\": 708986.8500948197,\n",
            "    \"total_land_cover_area_hectares\": 110612321.45769621\n",
            "  },\n",
            "  {\n",
            "    \"biome_id\": \"0\",\n",
            "    \"total_burned_area_hectares\": 458634.3118848137,\n",
            "    \"total_land_cover_area_hectares\": 82652059.56128532\n",
            "  },\n",
            "  {\n",
            "    \"biome_id\": \"1\",\n",
            "    \"total_burned_area_hectares\": 5361734.687860883,\n",
            "    \"total_land_cover_area_hectares\": 203936759.69174582\n",
            "  },\n",
            "  {\n",
            "    \"biome_id\": \"2\",\n",
            "    \"total_burned_area_hectares\": 153165.21180252495,\n",
            "    \"total_land_cover_area_hectares\": 15131122.855270993\n",
            "  },\n",
            "  {\n",
            "    \"biome_id\": \"3\",\n",
            "    \"total_burned_area_hectares\": 15908.82209148285,\n",
            "    \"total_land_cover_area_hectares\": 17776203.982418653\n",
            "  },\n",
            "  {\n",
            "    \"biome_id\": \"4\",\n",
            "    \"total_burned_area_hectares\": 2022836.4681562632,\n",
            "    \"total_land_cover_area_hectares\": 418244664.6811728\n",
            "  },\n",
            "  {\n",
            "    \"biome_id\": \"5\",\n",
            "    \"total_burned_area_hectares\": 531008.1525671837,\n",
            "    \"total_land_cover_area_hectares\": 110612321.45769621\n",
            "  },\n",
            "  {\n",
            "    \"biome_id\": \"0\",\n",
            "    \"total_burned_area_hectares\": 609643.3192815939,\n",
            "    \"total_land_cover_area_hectares\": 82652059.56128532\n",
            "  },\n",
            "  {\n",
            "    \"biome_id\": \"1\",\n",
            "    \"total_burned_area_hectares\": 11499117.860763105,\n",
            "    \"total_land_cover_area_hectares\": 203936759.69174582\n",
            "  },\n",
            "  {\n",
            "    \"biome_id\": \"2\",\n",
            "    \"total_burned_area_hectares\": 1740043.5603405281,\n",
            "    \"total_land_cover_area_hectares\": 15131122.855270993\n",
            "  },\n",
            "  {\n",
            "    \"biome_id\": \"3\",\n",
            "    \"total_burned_area_hectares\": 42393.80868388483,\n",
            "    \"total_land_cover_area_hectares\": 17776203.982418653\n",
            "  },\n",
            "  {\n",
            "    \"biome_id\": \"4\",\n",
            "    \"total_burned_area_hectares\": 4438405.504956173,\n",
            "    \"total_land_cover_area_hectares\": 418244664.6811728\n",
            "  },\n",
            "  {\n",
            "    \"biome_id\": \"5\",\n",
            "    \"total_burned_area_hectares\": 809146.7178361977,\n",
            "    \"total_land_cover_area_hectares\": 110612321.45769621\n",
            "  },\n",
            "  {\n",
            "    \"biome_id\": \"0\",\n",
            "    \"total_burned_area_hectares\": 554080.0753605474,\n",
            "    \"total_land_cover_area_hectares\": 82652059.56128532\n",
            "  },\n",
            "  {\n",
            "    \"biome_id\": \"1\",\n",
            "    \"total_burned_area_hectares\": 11190380.57456525,\n",
            "    \"total_land_cover_area_hectares\": 203936759.69174582\n",
            "  },\n",
            "  {\n",
            "    \"biome_id\": \"2\",\n",
            "    \"total_burned_area_hectares\": 3696706.056005859,\n",
            "    \"total_land_cover_area_hectares\": 15131122.855270993\n",
            "  },\n",
            "  {\n",
            "    \"biome_id\": \"3\",\n",
            "    \"total_burned_area_hectares\": 54406.73960137856,\n",
            "    \"total_land_cover_area_hectares\": 17776203.982418653\n",
            "  },\n",
            "  {\n",
            "    \"biome_id\": \"4\",\n",
            "    \"total_burned_area_hectares\": 5049465.165910797,\n",
            "    \"total_land_cover_area_hectares\": 418244664.6811728\n",
            "  },\n",
            "  {\n",
            "    \"biome_id\": \"5\",\n",
            "    \"total_burned_area_hectares\": 660857.1529856985,\n",
            "    \"total_land_cover_area_hectares\": 110612321.45769621\n",
            "  }\n",
            "]\n"
          ]
        }
      ],
      "source": [
        "import ee\n",
        "import geemap\n",
        "import json\n",
        "\n",
        "# Initialize the Earth Engine\n",
        "ee.Initialize()\n",
        "\n",
        "# Define the path to your biomes shapefile\n",
        "biomes_shp_path = '/content/Brazil_biomes.shp'  # Adjust this path to your shapefile's location\n",
        "\n",
        "# Convert the shapefile to an ee.FeatureCollection\n",
        "biomes = geemap.shp_to_ee(biomes_shp_path)\n",
        "\n",
        "# Function to calculate total burned area and total land cover area for a given year and biome\n",
        "def analyze_year_for_biome(year, biome):\n",
        "    # Load Land Cover for the given year and clip it to the current biome\n",
        "    landCover = ee.Image(f'MODIS/006/MCD12Q1/{year}_01_01').select('LC_Type1').clip(biome.geometry())\n",
        "\n",
        "    # Calculate the total area of the biome by counting the pixels and multiplying by the area per pixel (in hectares)\n",
        "    pixelArea = ee.Image.pixelArea().divide(10000)  # Pixel area in hectares\n",
        "    totalLandCoverArea = pixelArea.reduceRegion(\n",
        "        reducer=ee.Reducer.sum(),\n",
        "        geometry=biome.geometry(),\n",
        "        scale=500,  # Adjust scale as needed for your analysis\n",
        "        maxPixels=1e9\n",
        "    ).getInfo()['area']\n",
        "\n",
        "    # Adjust the filter date range according to the year\n",
        "    startDate = f'{year}-01-01'\n",
        "    endDate = f'{year+1}-01-01'\n",
        "\n",
        "    # Define the dataset for burned areas and clip it to the current biome\n",
        "    burnedArea = ee.ImageCollection('MODIS/061/MCD64A1') \\\n",
        "        .filter(ee.Filter.date(startDate, endDate)) \\\n",
        "        .select('BurnDate') \\\n",
        "        .map(lambda img: img.clip(biome.geometry()))\n",
        "    combinedBurnedArea = burnedArea.max()\n",
        "\n",
        "    # Calculate the total burned area within the biome\n",
        "    totalBurnedArea = pixelArea.updateMask(combinedBurnedArea.gt(0)).reduceRegion(\n",
        "        reducer=ee.Reducer.sum(),\n",
        "        geometry=biome.geometry(),\n",
        "        scale=500,\n",
        "        maxPixels=1e9\n",
        "    ).getInfo()['area']\n",
        "\n",
        "    return {\n",
        "        \"biome_id\": biome.id().getInfo(),  # Adjust as needed for identifying biomes\n",
        "        \"total_burned_area_hectares\": totalBurnedArea,\n",
        "        \"total_land_cover_area_hectares\": totalLandCoverArea\n",
        "    }\n",
        "\n",
        "# Initialize an empty list to store results\n",
        "yearly_results = []\n",
        "\n",
        "# Loop through each year and each biome to perform analysis\n",
        "for year in range(2010, 2021):  # Adjust years as needed\n",
        "    for biome in biomes.getInfo()['features']:  # This might need optimization for large datasets\n",
        "        biome_ee = ee.Feature(biome)  # Convert each biome back to an ee.Feature\n",
        "        result = analyze_year_for_biome(year, biome_ee)\n",
        "        yearly_results.append(result)\n",
        "        print(f\"Processed year {year} for biome {result['biome_id']}\")\n",
        "\n",
        "# Convert the list to JSON\n",
        "json_output = json.dumps(yearly_results, indent=2)\n",
        "print(json_output)\n",
        "\n",
        "# Optionally, save the JSON to a file\n",
        "with open('total_burned_land_cover_stats_by_biome.json', 'w') as f:\n",
        "    json.dump(yearly_results, f, indent=2)\n",
        "\n"
      ]
    },
    {
      "cell_type": "code",
      "execution_count": null,
      "metadata": {
        "colab": {
          "base_uri": "https://localhost:8080/",
          "height": 35
        },
        "id": "zDuw4ys_zRxS",
        "outputId": "d91e1de1-929d-4c6a-e2b3-8765ec25a642"
      },
      "outputs": [
        {
          "data": {
            "text/html": [
              "\n",
              "            <style>\n",
              "                .geemap-dark {\n",
              "                    --jp-widgets-color: white;\n",
              "                    --jp-widgets-label-color: white;\n",
              "                    --jp-ui-font-color1: white;\n",
              "                    --jp-layout-color2: #454545;\n",
              "                    background-color: #383838;\n",
              "                }\n",
              "\n",
              "                .geemap-dark .jupyter-button {\n",
              "                    --jp-layout-color3: #383838;\n",
              "                }\n",
              "\n",
              "                .geemap-colab {\n",
              "                    background-color: var(--colab-primary-surface-color, white);\n",
              "                }\n",
              "\n",
              "                .geemap-colab .jupyter-button {\n",
              "                    --jp-layout-color3: var(--colab-primary-surface-color, white);\n",
              "                }\n",
              "            </style>\n",
              "            "
            ],
            "text/plain": [
              "<IPython.core.display.HTML object>"
            ]
          },
          "metadata": {},
          "output_type": "display_data"
        },
        {
          "name": "stdout",
          "output_type": "stream",
          "text": [
            "{'0': 'Caatinga', '1': 'Cerrado', '2': 'Pantanal', '3': 'Pampa', '4': 'Amazônia', '5': 'Mata Atlântica'}\n"
          ]
        }
      ],
      "source": [
        "map_dict = {\n",
        "    \"0\": 'Caatinga',\n",
        "    '1': \"Cerrado\",\n",
        "    '2': \"Pantanal\",\n",
        "    '3': \"Pampa\",\n",
        "    '4': \"Amazônia\",\n",
        "    '5': \"Mata Atlântica\"\n",
        "\n",
        "}\n",
        "\n",
        "print(map_dict)\n",
        "for result in yearly_results:\n",
        "    # The biome_id needs to be a string to match the keys in map_dict\n",
        "    biome_id = result[\"biome_id\"]\n",
        "    # Check if the biome_id exists in map_dict to add the \"name\" field\n",
        "    result[\"name\"] = map_dict[biome_id]\n"
      ]
    },
    {
      "cell_type": "code",
      "execution_count": null,
      "metadata": {
        "id": "5BSlL5674qLp"
      },
      "outputs": [],
      "source": [
        "yearly_results"
      ]
    },
    {
      "cell_type": "code",
      "execution_count": null,
      "metadata": {
        "colab": {
          "base_uri": "https://localhost:8080/",
          "height": 17
        },
        "id": "nEeeBAmK4u3I",
        "outputId": "8fc5acbe-93c6-4d8f-d5af-0dcfb0f6ee60"
      },
      "outputs": [
        {
          "data": {
            "text/html": [
              "\n",
              "            <style>\n",
              "                .geemap-dark {\n",
              "                    --jp-widgets-color: white;\n",
              "                    --jp-widgets-label-color: white;\n",
              "                    --jp-ui-font-color1: white;\n",
              "                    --jp-layout-color2: #454545;\n",
              "                    background-color: #383838;\n",
              "                }\n",
              "\n",
              "                .geemap-dark .jupyter-button {\n",
              "                    --jp-layout-color3: #383838;\n",
              "                }\n",
              "\n",
              "                .geemap-colab {\n",
              "                    background-color: var(--colab-primary-surface-color, white);\n",
              "                }\n",
              "\n",
              "                .geemap-colab .jupyter-button {\n",
              "                    --jp-layout-color3: var(--colab-primary-surface-color, white);\n",
              "                }\n",
              "            </style>\n",
              "            "
            ],
            "text/plain": [
              "<IPython.core.display.HTML object>"
            ]
          },
          "metadata": {},
          "output_type": "display_data"
        }
      ],
      "source": [
        "# Optionally, save the JSON to a file\n",
        "with open('total_burned_land_cover_stats_by_biome.json', 'w') as f:\n",
        "    json.dump(yearly_results, f, indent=2)"
      ]
    },
    {
      "cell_type": "markdown",
      "metadata": {
        "id": "40fdgYuyuoS1"
      },
      "source": [
        "## We calcualte population densitiy in buried areas!"
      ]
    },
    {
      "cell_type": "code",
      "execution_count": 81,
      "metadata": {
        "colab": {
          "base_uri": "https://localhost:8080/",
          "height": 767
        },
        "id": "qDsrc9UFCWhx",
        "outputId": "7a457b56-e28f-43a5-b707-b24a8ce5f54e"
      },
      "outputs": [
        {
          "data": {
            "text/html": [
              "\n",
              "            <style>\n",
              "                .geemap-dark {\n",
              "                    --jp-widgets-color: white;\n",
              "                    --jp-widgets-label-color: white;\n",
              "                    --jp-ui-font-color1: white;\n",
              "                    --jp-layout-color2: #454545;\n",
              "                    background-color: #383838;\n",
              "                }\n",
              "\n",
              "                .geemap-dark .jupyter-button {\n",
              "                    --jp-layout-color3: #383838;\n",
              "                }\n",
              "\n",
              "                .geemap-colab {\n",
              "                    background-color: var(--colab-primary-surface-color, white);\n",
              "                }\n",
              "\n",
              "                .geemap-colab .jupyter-button {\n",
              "                    --jp-layout-color3: var(--colab-primary-surface-color, white);\n",
              "                }\n",
              "            </style>\n",
              "            "
            ],
            "text/plain": [
              "<IPython.core.display.HTML object>"
            ]
          },
          "metadata": {},
          "output_type": "display_data"
        },
        {
          "name": "stdout",
          "output_type": "stream",
          "text": [
            "Total Affected Population in Brazil for 2001: {'population_density': 229418.72046944633}\n",
            "Total Affected Population in Brazil for 2002: {'population_density': 608571.736472302}\n",
            "Total Affected Population in Brazil for 2003: {'population_density': 493334.2900641658}\n",
            "Total Affected Population in Brazil for 2004: {'population_density': 530647.8469181501}\n",
            "Total Affected Population in Brazil for 2005: {'population_density': 536066.3685911056}\n",
            "Total Affected Population in Brazil for 2006: {'population_density': 355553.6870754419}\n",
            "Total Affected Population in Brazil for 2007: {'population_density': 780521.9477853382}\n",
            "Total Affected Population in Brazil for 2008: {'population_density': 388134.3456334028}\n",
            "Total Affected Population in Brazil for 2009: {'population_density': 268807.1870895398}\n",
            "Total Affected Population in Brazil for 2010: {'population_density': 634968.0361256299}\n",
            "Total Affected Population in Brazil for 2011: {'population_density': 395843.0577213366}\n",
            "Total Affected Population in Brazil for 2012: {'population_density': 511826.9644203568}\n",
            "Total Affected Population in Brazil for 2013: {'population_density': 176978.40326135734}\n",
            "Total Affected Population in Brazil for 2014: {'population_density': 326432.10237359675}\n",
            "Total Affected Population in Brazil for 2015: {'population_density': 450801.9185745888}\n",
            "Total Affected Population in Brazil for 2016: {'population_density': 351204.2314715873}\n",
            "Total Affected Population in Brazil for 2017: {'population_density': 360347.2018295224}\n",
            "Total Affected Population in Brazil for 2018: {'population_density': 191197.96250960283}\n",
            "Total Affected Population in Brazil for 2019: {'population_density': 357214.9368964045}\n",
            "Total Affected Population in Brazil for 2020: {'population_density': 299182.7836835938}\n",
            "{\n",
            "  \"2001\": 229418.72046944633,\n",
            "  \"2002\": 608571.736472302,\n",
            "  \"2003\": 493334.2900641658,\n",
            "  \"2004\": 530647.8469181501,\n",
            "  \"2005\": 536066.3685911056,\n",
            "  \"2006\": 355553.6870754419,\n",
            "  \"2007\": 780521.9477853382,\n",
            "  \"2008\": 388134.3456334028,\n",
            "  \"2009\": 268807.1870895398,\n",
            "  \"2010\": 634968.0361256299,\n",
            "  \"2011\": 395843.0577213366,\n",
            "  \"2012\": 511826.9644203568,\n",
            "  \"2013\": 176978.40326135734,\n",
            "  \"2014\": 326432.10237359675,\n",
            "  \"2015\": 450801.9185745888,\n",
            "  \"2016\": 351204.2314715873,\n",
            "  \"2017\": 360347.2018295224,\n",
            "  \"2018\": 191197.96250960283,\n",
            "  \"2019\": 357214.9368964045,\n",
            "  \"2020\": 299182.7836835938\n",
            "}\n"
          ]
        }
      ],
      "source": [
        "import ee\n",
        "import geemap\n",
        "import json\n",
        "\n",
        "# Initialize the Earth Engine\n",
        "ee.Initialize()\n",
        "\n",
        "# A FeatureCollection defining Brazil boundary\n",
        "fc = ee.FeatureCollection('USDOS/LSIB_SIMPLE/2017').filter(ee.Filter.eq('country_na', 'Brazil'))\n",
        "\n",
        "# Load the WorldPop population dataset (mean over available years for simplification)\n",
        "population_dataset = ee.ImageCollection(\"CIESIN/GPWv411/GPW_Population_Density\").mean().clip(fc)\n",
        "\n",
        "# Define the years for analysis\n",
        "start_year = 2001\n",
        "end_year = 2020  # Adjust the end year as needed\n",
        "\n",
        "# Initialize a dictionary to hold the results\n",
        "yearly_affected_population = {}\n",
        "\n",
        "for year in range(start_year, end_year + 1):\n",
        "    # Define the dataset for burned areas for the specific year and clip it to Brazil\n",
        "    burned_area_dataset = ee.ImageCollection('MODIS/061/MCD64A1') \\\n",
        "        .filter(ee.Filter.date(f'{year}-01-01', f'{year+1}-01-01')) \\\n",
        "        .select('BurnDate') \\\n",
        "        .map(lambda img: img.clip(fc)).max()  # Use max() to create a single image representing all burned areas\n",
        "\n",
        "    # Create a 10 km buffer around the burned areas\n",
        "    # Note: In this modified script, we directly use the burned areas without applying a buffer\n",
        "    burned_area_buffered = burned_area_dataset.gt(0)\n",
        "\n",
        "    # Mask the WorldPop data with the burned areas\n",
        "    masked_population_buffered = population_dataset.updateMask(burned_area_buffered)\n",
        "\n",
        "    # Calculate the total population affected by the burned areas within Brazil\n",
        "    total_affected_population_buffered = masked_population_buffered.reduceRegion(\n",
        "        reducer=ee.Reducer.sum(),\n",
        "        geometry=fc.geometry(),  # Use the Brazil geometry\n",
        "        scale=1000,  # Consider the resolution of the WorldPop data\n",
        "        maxPixels=1e9\n",
        "    )\n",
        "\n",
        "    # Fetch the result\n",
        "    total_affected_population_info_buffered = total_affected_population_buffered.getInfo()\n",
        "    print(f\"Total Affected Population in Brazil for {year}:\", total_affected_population_info_buffered)\n",
        "\n",
        "    # Add the result to the dictionary\n",
        "    yearly_affected_population[year] = total_affected_population_info_buffered['population_density']\n",
        "\n",
        "# Convert the dictionary to JSON\n",
        "json_output = json.dumps(yearly_affected_population, indent=2)\n",
        "print(json_output)\n",
        "\n",
        "# Optionally, save the JSON to a file\n",
        "with open('yearly_affected_population.json', 'w') as f:\n",
        "    json.dump(yearly_affected_population, f, indent=2)\n"
      ]
    },
    {
      "cell_type": "markdown",
      "metadata": {
        "id": "brnZHslHvFUP"
      },
      "source": [
        "## We calculate and predict fires for the next year"
      ]
    },
    {
      "cell_type": "code",
      "execution_count": null,
      "metadata": {
        "id": "EarLcUEivH3H"
      },
      "outputs": [],
      "source": [
        "import geemap\n",
        "import ee\n",
        "import json\n",
        "\n",
        "# Initialize the Google Earth Engine module\n",
        "ee.Initialize()\n",
        "\n",
        "# Load the JSON file with points\n",
        "with open('/content/output.json', 'r') as file:\n",
        "    points_list = json.load(file)\n",
        "\n",
        "# Convert the list of points to ee.Feature objects\n",
        "features = []\n",
        "for point in points_list:\n",
        "    # Ensure 'latitude' and 'longitude' keys exist\n",
        "    if 'latitude' in point and 'longitude' in point:\n",
        "        ee_point = ee.Geometry.Point([point['longitude'], point['latitude']])\n",
        "        features.append(ee.Feature(ee_point))\n",
        "\n",
        "# Create a FeatureCollection from the list of ee.Feature objects\n",
        "points_feature_collection = ee.FeatureCollection(features)\n",
        "\n",
        "# Create a map\n",
        "Map = geemap.Map(center=[-23, -53], zoom=6)\n",
        "\n",
        "# Add the FeatureCollection as a single layer\n",
        "Map.addLayer(points_feature_collection, {}, 'Points')\n",
        "\n",
        "# Optional layers (if defined elsewhere in your code)\n",
        "# Map.addLayer(ba_clip, burnedAreaVis, 'Burned Area')\n",
        "# Map.addLayer(brazil_shapefile, {'color': 'red'}, 'Brazil', opacity=0.5)\n",
        "\n",
        "Map.addLayerControl()  # Add layer control to toggle layers\n",
        "\n",
        "# Display the map\n",
        "Map\n"
      ]
    }
  ],
  "metadata": {
    "colab": {
      "provenance": []
    },
    "kernelspec": {
      "display_name": "Python 3",
      "name": "python3"
    },
    "language_info": {
      "name": "python"
    }
  },
  "nbformat": 4,
  "nbformat_minor": 0
}
