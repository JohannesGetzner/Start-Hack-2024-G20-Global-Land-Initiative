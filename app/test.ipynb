{
 "cells": [
  {
   "cell_type": "code",
   "execution_count": 1,
   "id": "initial_id",
   "metadata": {
    "collapsed": true,
    "ExecuteTime": {
     "end_time": "2024-03-21T15:38:37.807119871Z",
     "start_time": "2024-03-21T15:38:37.686356724Z"
    }
   },
   "outputs": [],
   "source": [
    "import ee"
   ]
  },
  {
   "cell_type": "code",
   "outputs": [],
   "source": [
    "ee.Authenticate()\n",
    "ee.Initialize(project='ee-jgetzner')"
   ],
   "metadata": {
    "collapsed": false,
    "ExecuteTime": {
     "end_time": "2024-03-21T15:38:40.821764457Z",
     "start_time": "2024-03-21T15:38:37.809795677Z"
    }
   },
   "id": "638cd8128d8edf83",
   "execution_count": 2
  },
  {
   "cell_type": "code",
   "outputs": [],
   "source": [
    "from charting import get_chart_by_layers"
   ],
   "metadata": {
    "collapsed": false,
    "ExecuteTime": {
     "end_time": "2024-03-21T15:38:41.937681827Z",
     "start_time": "2024-03-21T15:38:40.822113135Z"
    }
   },
   "id": "387f285f29ca172b",
   "execution_count": 3
  },
  {
   "cell_type": "code",
   "outputs": [
    {
     "data": {
      "text/plain": "<IPython.core.display.HTML object>",
      "text/html": "\n            <style>\n                .geemap-dark {\n                    --jp-widgets-color: white;\n                    --jp-widgets-label-color: white;\n                    --jp-ui-font-color1: white;\n                    --jp-layout-color2: #454545;\n                    background-color: #383838;\n                }\n\n                .geemap-dark .jupyter-button {\n                    --jp-layout-color3: #383838;\n                }\n\n                .geemap-colab {\n                    background-color: var(--colab-primary-surface-color, white);\n                }\n\n                .geemap-colab .jupyter-button {\n                    --jp-layout-color3: var(--colab-primary-surface-color, white);\n                }\n            </style>\n            "
     },
     "metadata": {},
     "output_type": "display_data"
    },
    {
     "name": "stdout",
     "output_type": "stream",
     "text": [
      "ee-jgetzner\n"
     ]
    },
    {
     "data": {
      "text/plain": "'<div style=\"width:100%;\"><div style=\"position:relative;width:100%;height:0;padding-bottom:60%;\"><span style=\"color:#565656\">Make this Notebook Trusted to load map: File -> Trust Notebook</span><iframe srcdoc=\"&lt;!DOCTYPE html&gt;\\n&lt;html&gt;\\n&lt;head&gt;\\n    \\n    &lt;meta http-equiv=&quot;content-type&quot; content=&quot;text/html; charset=UTF-8&quot; /&gt;\\n    \\n        &lt;script&gt;\\n            L_NO_TOUCH = false;\\n            L_DISABLE_3D = false;\\n        &lt;/script&gt;\\n    \\n    &lt;style&gt;html, body {width: 100%;height: 100%;margin: 0;padding: 0;}&lt;/style&gt;\\n    &lt;style&gt;#map {position:absolute;top:0;bottom:0;right:0;left:0;}&lt;/style&gt;\\n    &lt;script src=&quot;https://cdn.jsdelivr.net/npm/leaflet@1.9.3/dist/leaflet.js&quot;&gt;&lt;/script&gt;\\n    &lt;script src=&quot;https://code.jquery.com/jquery-3.7.1.min.js&quot;&gt;&lt;/script&gt;\\n    &lt;script src=&quot;https://cdn.jsdelivr.net/npm/bootstrap@5.2.2/dist/js/bootstrap.bundle.min.js&quot;&gt;&lt;/script&gt;\\n    &lt;script src=&quot;https://cdnjs.cloudflare.com/ajax/libs/Leaflet.awesome-markers/2.0.2/leaflet.awesome-markers.js&quot;&gt;&lt;/script&gt;\\n    &lt;link rel=&quot;stylesheet&quot; href=&quot;https://cdn.jsdelivr.net/npm/leaflet@1.9.3/dist/leaflet.css&quot;/&gt;\\n    &lt;link rel=&quot;stylesheet&quot; href=&quot;https://cdn.jsdelivr.net/npm/bootstrap@5.2.2/dist/css/bootstrap.min.css&quot;/&gt;\\n    &lt;link rel=&quot;stylesheet&quot; href=&quot;https://netdna.bootstrapcdn.com/bootstrap/3.0.0/css/bootstrap.min.css&quot;/&gt;\\n    &lt;link rel=&quot;stylesheet&quot; href=&quot;https://cdn.jsdelivr.net/npm/@fortawesome/fontawesome-free@6.2.0/css/all.min.css&quot;/&gt;\\n    &lt;link rel=&quot;stylesheet&quot; href=&quot;https://cdnjs.cloudflare.com/ajax/libs/Leaflet.awesome-markers/2.0.2/leaflet.awesome-markers.css&quot;/&gt;\\n    &lt;link rel=&quot;stylesheet&quot; href=&quot;https://cdn.jsdelivr.net/gh/python-visualization/folium/folium/templates/leaflet.awesome.rotate.min.css&quot;/&gt;\\n    \\n            &lt;meta name=&quot;viewport&quot; content=&quot;width=device-width,\\n                initial-scale=1.0, maximum-scale=1.0, user-scalable=no&quot; /&gt;\\n            &lt;style&gt;\\n                #map_efa9ab14c546dcbe2c8b54b431cf1a3e {\\n                    position: relative;\\n                    width: 100.0%;\\n                    height: 500.0px;\\n                    left: 0.0%;\\n                    top: 0.0%;\\n                }\\n                .leaflet-container { font-size: 1rem; }\\n            &lt;/style&gt;\\n        \\n&lt;/head&gt;\\n&lt;body&gt;\\n    \\n    \\n            &lt;div class=&quot;folium-map&quot; id=&quot;map_efa9ab14c546dcbe2c8b54b431cf1a3e&quot; &gt;&lt;/div&gt;\\n        \\n&lt;/body&gt;\\n&lt;script&gt;\\n    \\n    \\n            var map_efa9ab14c546dcbe2c8b54b431cf1a3e = L.map(\\n                &quot;map_efa9ab14c546dcbe2c8b54b431cf1a3e&quot;,\\n                {\\n                    center: [-14.5, -51.0],\\n                    crs: L.CRS.EPSG3857,\\n                    zoom: 4,\\n                    zoomControl: true,\\n                    preferCanvas: false,\\n                }\\n            );\\n\\n            \\n\\n        \\n    \\n            var tile_layer_21b491d74ab8d7f56ea7466ad38b4492 = L.tileLayer(\\n                &quot;https://tile.openstreetmap.org/{z}/{x}/{y}.png&quot;,\\n                {&quot;attribution&quot;: &quot;\\\\u0026copy; \\\\u003ca href=\\\\&quot;https://www.openstreetmap.org/copyright\\\\&quot;\\\\u003eOpenStreetMap\\\\u003c/a\\\\u003e contributors&quot;, &quot;detectRetina&quot;: false, &quot;maxNativeZoom&quot;: 19, &quot;maxZoom&quot;: 19, &quot;minZoom&quot;: 0, &quot;noWrap&quot;: false, &quot;opacity&quot;: 1, &quot;subdomains&quot;: &quot;abc&quot;, &quot;tms&quot;: false}\\n            );\\n        \\n    \\n            tile_layer_21b491d74ab8d7f56ea7466ad38b4492.addTo(map_efa9ab14c546dcbe2c8b54b431cf1a3e);\\n        \\n    \\n            var tile_layer_36c5ce56d5937c37b93cc044eeae8e30 = L.tileLayer(\\n                &quot;https://earthengine.googleapis.com/v1/projects/ee-jgetzner/maps/76da0440c4e2c0d3d5ca7ac1db7fe44a-3853901fc79116d4aa0930206059cb05/tiles/{z}/{x}/{y}&quot;,\\n                {&quot;attribution&quot;: &quot;Map Data \\\\u0026copy; \\\\u003ca href=\\\\&quot;https://earthengine.google.com/\\\\&quot;\\\\u003eGoogle Earth Engine\\\\u003c/a\\\\u003e&quot;, &quot;detectRetina&quot;: false, &quot;maxNativeZoom&quot;: 18, &quot;maxZoom&quot;: 18, &quot;minZoom&quot;: 0, &quot;noWrap&quot;: false, &quot;opacity&quot;: 1, &quot;subdomains&quot;: &quot;abc&quot;, &quot;tms&quot;: false}\\n            );\\n        \\n    \\n            tile_layer_36c5ce56d5937c37b93cc044eeae8e30.addTo(map_efa9ab14c546dcbe2c8b54b431cf1a3e);\\n        \\n    \\n            var tile_layer_ad6c62da0756b2ed38760e817d989501 = L.tileLayer(\\n                &quot;https://earthengine.googleapis.com/v1/projects/ee-jgetzner/maps/16e43c59c4059cea8ecbce04383d42f6-4c2350d3c9fdf9341b8bd3f396229690/tiles/{z}/{x}/{y}&quot;,\\n                {&quot;attribution&quot;: &quot;Map Data \\\\u0026copy; \\\\u003ca href=\\\\&quot;https://earthengine.google.com/\\\\&quot;\\\\u003eGoogle Earth Engine\\\\u003c/a\\\\u003e&quot;, &quot;detectRetina&quot;: false, &quot;maxNativeZoom&quot;: 18, &quot;maxZoom&quot;: 18, &quot;minZoom&quot;: 0, &quot;noWrap&quot;: false, &quot;opacity&quot;: 1, &quot;subdomains&quot;: &quot;abc&quot;, &quot;tms&quot;: false}\\n            );\\n        \\n    \\n            tile_layer_ad6c62da0756b2ed38760e817d989501.addTo(map_efa9ab14c546dcbe2c8b54b431cf1a3e);\\n        \\n    \\n            var tile_layer_280c23ad47d4d7368e90eda158f7504e = L.tileLayer(\\n                &quot;https://earthengine.googleapis.com/v1/projects/ee-jgetzner/maps/f8ad3be5f6966d3554e34dca1ea3525a-361be24bae94ffe3b29252ab75ac0578/tiles/{z}/{x}/{y}&quot;,\\n                {&quot;attribution&quot;: &quot;Map Data \\\\u0026copy; \\\\u003ca href=\\\\&quot;https://earthengine.google.com/\\\\&quot;\\\\u003eGoogle Earth Engine\\\\u003c/a\\\\u003e&quot;, &quot;detectRetina&quot;: false, &quot;maxNativeZoom&quot;: 18, &quot;maxZoom&quot;: 18, &quot;minZoom&quot;: 0, &quot;noWrap&quot;: false, &quot;opacity&quot;: 1, &quot;subdomains&quot;: &quot;abc&quot;, &quot;tms&quot;: false}\\n            );\\n        \\n    \\n            tile_layer_280c23ad47d4d7368e90eda158f7504e.addTo(map_efa9ab14c546dcbe2c8b54b431cf1a3e);\\n        \\n    \\n            var layer_control_41bdd67799315f77fe17b9c8db39d72b_layers = {\\n                base_layers : {\\n                    &quot;openstreetmap&quot; : tile_layer_21b491d74ab8d7f56ea7466ad38b4492,\\n                },\\n                overlays :  {\\n                    &quot;Biomes&quot; : tile_layer_36c5ce56d5937c37b93cc044eeae8e30,\\n                    &quot;Land Cover 2017&quot; : tile_layer_ad6c62da0756b2ed38760e817d989501,\\n                    &quot;Burned Area&quot; : tile_layer_280c23ad47d4d7368e90eda158f7504e,\\n                },\\n            };\\n            let layer_control_41bdd67799315f77fe17b9c8db39d72b = L.control.layers(\\n                layer_control_41bdd67799315f77fe17b9c8db39d72b_layers.base_layers,\\n                layer_control_41bdd67799315f77fe17b9c8db39d72b_layers.overlays,\\n                {&quot;autoZIndex&quot;: true, &quot;collapsed&quot;: true, &quot;position&quot;: &quot;topright&quot;}\\n            ).addTo(map_efa9ab14c546dcbe2c8b54b431cf1a3e);\\n\\n        \\n&lt;/script&gt;\\n&lt;/html&gt;\" style=\"position:absolute;width:100%;height:100%;left:0;top:0;border:none !important;\" allowfullscreen webkitallowfullscreen mozallowfullscreen></iframe></div></div>'"
     },
     "execution_count": 5,
     "metadata": {},
     "output_type": "execute_result"
    }
   ],
   "source": [
    "get_chart_by_layers(['biomes', 'landcover_2017', 'burn_2017'])"
   ],
   "metadata": {
    "collapsed": false,
    "ExecuteTime": {
     "end_time": "2024-03-21T15:39:04.458535147Z",
     "start_time": "2024-03-21T15:38:50.236812531Z"
    }
   },
   "id": "79f42d4dbbd7bb73",
   "execution_count": 5
  },
  {
   "cell_type": "code",
   "outputs": [],
   "source": [],
   "metadata": {
    "collapsed": false
   },
   "id": "41fa6117c3c7e0ed"
  }
 ],
 "metadata": {
  "kernelspec": {
   "display_name": "Python 3",
   "language": "python",
   "name": "python3"
  },
  "language_info": {
   "codemirror_mode": {
    "name": "ipython",
    "version": 2
   },
   "file_extension": ".py",
   "mimetype": "text/x-python",
   "name": "python",
   "nbconvert_exporter": "python",
   "pygments_lexer": "ipython2",
   "version": "2.7.6"
  }
 },
 "nbformat": 4,
 "nbformat_minor": 5
}
