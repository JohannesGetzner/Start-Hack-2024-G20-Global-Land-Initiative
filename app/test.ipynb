{
 "cells": [
  {
   "cell_type": "code",
   "execution_count": 6,
   "id": "initial_id",
   "metadata": {
    "collapsed": true,
    "ExecuteTime": {
     "end_time": "2024-03-21T03:43:14.653565423Z",
     "start_time": "2024-03-21T03:43:14.607157967Z"
    }
   },
   "outputs": [
    {
     "data": {
      "text/plain": "<IPython.core.display.HTML object>",
      "text/html": "\n            <style>\n                .geemap-dark {\n                    --jp-widgets-color: white;\n                    --jp-widgets-label-color: white;\n                    --jp-ui-font-color1: white;\n                    --jp-layout-color2: #454545;\n                    background-color: #383838;\n                }\n\n                .geemap-dark .jupyter-button {\n                    --jp-layout-color3: #383838;\n                }\n\n                .geemap-colab {\n                    background-color: var(--colab-primary-surface-color, white);\n                }\n\n                .geemap-colab .jupyter-button {\n                    --jp-layout-color3: var(--colab-primary-surface-color, white);\n                }\n            </style>\n            "
     },
     "metadata": {},
     "output_type": "display_data"
    }
   ],
   "source": [
    "import ee"
   ]
  },
  {
   "cell_type": "code",
   "outputs": [
    {
     "data": {
      "text/plain": "<IPython.core.display.HTML object>",
      "text/html": "\n            <style>\n                .geemap-dark {\n                    --jp-widgets-color: white;\n                    --jp-widgets-label-color: white;\n                    --jp-ui-font-color1: white;\n                    --jp-layout-color2: #454545;\n                    background-color: #383838;\n                }\n\n                .geemap-dark .jupyter-button {\n                    --jp-layout-color3: #383838;\n                }\n\n                .geemap-colab {\n                    background-color: var(--colab-primary-surface-color, white);\n                }\n\n                .geemap-colab .jupyter-button {\n                    --jp-layout-color3: var(--colab-primary-surface-color, white);\n                }\n            </style>\n            "
     },
     "metadata": {},
     "output_type": "display_data"
    }
   ],
   "source": [
    "ee.Authenticate()\n",
    "ee.Initialize(project='ee-jgetzner')"
   ],
   "metadata": {
    "collapsed": false,
    "ExecuteTime": {
     "end_time": "2024-03-21T03:43:16.029037107Z",
     "start_time": "2024-03-21T03:43:14.653081002Z"
    }
   },
   "id": "638cd8128d8edf83",
   "execution_count": 7
  },
  {
   "cell_type": "code",
   "outputs": [
    {
     "data": {
      "text/plain": "<IPython.core.display.HTML object>",
      "text/html": "\n            <style>\n                .geemap-dark {\n                    --jp-widgets-color: white;\n                    --jp-widgets-label-color: white;\n                    --jp-ui-font-color1: white;\n                    --jp-layout-color2: #454545;\n                    background-color: #383838;\n                }\n\n                .geemap-dark .jupyter-button {\n                    --jp-layout-color3: #383838;\n                }\n\n                .geemap-colab {\n                    background-color: var(--colab-primary-surface-color, white);\n                }\n\n                .geemap-colab .jupyter-button {\n                    --jp-layout-color3: var(--colab-primary-surface-color, white);\n                }\n            </style>\n            "
     },
     "metadata": {},
     "output_type": "display_data"
    }
   ],
   "source": [
    "from charting import get_landcover_by_years"
   ],
   "metadata": {
    "collapsed": false,
    "ExecuteTime": {
     "end_time": "2024-03-21T03:43:16.035528396Z",
     "start_time": "2024-03-21T03:43:16.029408833Z"
    }
   },
   "id": "387f285f29ca172b",
   "execution_count": 8
  },
  {
   "cell_type": "code",
   "outputs": [
    {
     "data": {
      "text/plain": "<IPython.core.display.HTML object>",
      "text/html": "\n            <style>\n                .geemap-dark {\n                    --jp-widgets-color: white;\n                    --jp-widgets-label-color: white;\n                    --jp-ui-font-color1: white;\n                    --jp-layout-color2: #454545;\n                    background-color: #383838;\n                }\n\n                .geemap-dark .jupyter-button {\n                    --jp-layout-color3: #383838;\n                }\n\n                .geemap-colab {\n                    background-color: var(--colab-primary-surface-color, white);\n                }\n\n                .geemap-colab .jupyter-button {\n                    --jp-layout-color3: var(--colab-primary-surface-color, white);\n                }\n            </style>\n            "
     },
     "metadata": {},
     "output_type": "display_data"
    },
    {
     "data": {
      "text/plain": "'<div style=\"width:100%;\"><div style=\"position:relative;width:100%;height:0;padding-bottom:60%;\"><span style=\"color:#565656\">Make this Notebook Trusted to load map: File -> Trust Notebook</span><iframe srcdoc=\"&lt;!DOCTYPE html&gt;\\n&lt;html&gt;\\n&lt;head&gt;\\n    \\n    &lt;meta http-equiv=&quot;content-type&quot; content=&quot;text/html; charset=UTF-8&quot; /&gt;\\n    \\n        &lt;script&gt;\\n            L_NO_TOUCH = false;\\n            L_DISABLE_3D = false;\\n        &lt;/script&gt;\\n    \\n    &lt;style&gt;html, body {width: 100%;height: 100%;margin: 0;padding: 0;}&lt;/style&gt;\\n    &lt;style&gt;#map {position:absolute;top:0;bottom:0;right:0;left:0;}&lt;/style&gt;\\n    &lt;script src=&quot;https://cdn.jsdelivr.net/npm/leaflet@1.9.3/dist/leaflet.js&quot;&gt;&lt;/script&gt;\\n    &lt;script src=&quot;https://code.jquery.com/jquery-3.7.1.min.js&quot;&gt;&lt;/script&gt;\\n    &lt;script src=&quot;https://cdn.jsdelivr.net/npm/bootstrap@5.2.2/dist/js/bootstrap.bundle.min.js&quot;&gt;&lt;/script&gt;\\n    &lt;script src=&quot;https://cdnjs.cloudflare.com/ajax/libs/Leaflet.awesome-markers/2.0.2/leaflet.awesome-markers.js&quot;&gt;&lt;/script&gt;\\n    &lt;link rel=&quot;stylesheet&quot; href=&quot;https://cdn.jsdelivr.net/npm/leaflet@1.9.3/dist/leaflet.css&quot;/&gt;\\n    &lt;link rel=&quot;stylesheet&quot; href=&quot;https://cdn.jsdelivr.net/npm/bootstrap@5.2.2/dist/css/bootstrap.min.css&quot;/&gt;\\n    &lt;link rel=&quot;stylesheet&quot; href=&quot;https://netdna.bootstrapcdn.com/bootstrap/3.0.0/css/bootstrap.min.css&quot;/&gt;\\n    &lt;link rel=&quot;stylesheet&quot; href=&quot;https://cdn.jsdelivr.net/npm/@fortawesome/fontawesome-free@6.2.0/css/all.min.css&quot;/&gt;\\n    &lt;link rel=&quot;stylesheet&quot; href=&quot;https://cdnjs.cloudflare.com/ajax/libs/Leaflet.awesome-markers/2.0.2/leaflet.awesome-markers.css&quot;/&gt;\\n    &lt;link rel=&quot;stylesheet&quot; href=&quot;https://cdn.jsdelivr.net/gh/python-visualization/folium/folium/templates/leaflet.awesome.rotate.min.css&quot;/&gt;\\n    \\n            &lt;meta name=&quot;viewport&quot; content=&quot;width=device-width,\\n                initial-scale=1.0, maximum-scale=1.0, user-scalable=no&quot; /&gt;\\n            &lt;style&gt;\\n                #map_8cb0f990afb53449926adf60d784d992 {\\n                    position: relative;\\n                    width: 100.0%;\\n                    height: 500.0px;\\n                    left: 0.0%;\\n                    top: 0.0%;\\n                }\\n                .leaflet-container { font-size: 1rem; }\\n            &lt;/style&gt;\\n        \\n&lt;/head&gt;\\n&lt;body&gt;\\n    \\n    \\n            &lt;div class=&quot;folium-map&quot; id=&quot;map_8cb0f990afb53449926adf60d784d992&quot; &gt;&lt;/div&gt;\\n        \\n&lt;/body&gt;\\n&lt;script&gt;\\n    \\n    \\n            var map_8cb0f990afb53449926adf60d784d992 = L.map(\\n                &quot;map_8cb0f990afb53449926adf60d784d992&quot;,\\n                {\\n                    center: [-14.5, -51.0],\\n                    crs: L.CRS.EPSG3857,\\n                    zoom: 4,\\n                    zoomControl: true,\\n                    preferCanvas: false,\\n                }\\n            );\\n\\n            \\n\\n        \\n    \\n            var tile_layer_ad3e86397eca2805a007dea8cd180eed = L.tileLayer(\\n                &quot;https://tile.openstreetmap.org/{z}/{x}/{y}.png&quot;,\\n                {&quot;attribution&quot;: &quot;\\\\u0026copy; \\\\u003ca href=\\\\&quot;https://www.openstreetmap.org/copyright\\\\&quot;\\\\u003eOpenStreetMap\\\\u003c/a\\\\u003e contributors&quot;, &quot;detectRetina&quot;: false, &quot;maxNativeZoom&quot;: 19, &quot;maxZoom&quot;: 19, &quot;minZoom&quot;: 0, &quot;noWrap&quot;: false, &quot;opacity&quot;: 1, &quot;subdomains&quot;: &quot;abc&quot;, &quot;tms&quot;: false}\\n            );\\n        \\n    \\n            tile_layer_ad3e86397eca2805a007dea8cd180eed.addTo(map_8cb0f990afb53449926adf60d784d992);\\n        \\n    \\n            var tile_layer_b9d18e6b58bb4c66f482d1eda8d6e515 = L.tileLayer(\\n                &quot;https://earthengine.googleapis.com/v1/projects/ee-jgetzner/maps/f6383fe5dc071b0463d29c5ebe7f3a29-6942f7070d5ed0714ca418cad0a09997/tiles/{z}/{x}/{y}&quot;,\\n                {&quot;attribution&quot;: &quot;Map Data \\\\u0026copy; \\\\u003ca href=\\\\&quot;https://earthengine.google.com/\\\\&quot;\\\\u003eGoogle Earth Engine\\\\u003c/a\\\\u003e&quot;, &quot;detectRetina&quot;: false, &quot;maxNativeZoom&quot;: 18, &quot;maxZoom&quot;: 18, &quot;minZoom&quot;: 0, &quot;noWrap&quot;: false, &quot;opacity&quot;: 1, &quot;subdomains&quot;: &quot;abc&quot;, &quot;tms&quot;: false}\\n            );\\n        \\n    \\n            tile_layer_b9d18e6b58bb4c66f482d1eda8d6e515.addTo(map_8cb0f990afb53449926adf60d784d992);\\n        \\n&lt;/script&gt;\\n&lt;/html&gt;\" style=\"position:absolute;width:100%;height:100%;left:0;top:0;border:none !important;\" allowfullscreen webkitallowfullscreen mozallowfullscreen></iframe></div></div>'"
     },
     "execution_count": 9,
     "metadata": {},
     "output_type": "execute_result"
    }
   ],
   "source": [
    "get_landcover_by_years([])"
   ],
   "metadata": {
    "collapsed": false,
    "ExecuteTime": {
     "end_time": "2024-03-21T03:43:20.806463288Z",
     "start_time": "2024-03-21T03:43:16.035987519Z"
    }
   },
   "id": "79f42d4dbbd7bb73",
   "execution_count": 9
  },
  {
   "cell_type": "code",
   "outputs": [],
   "source": [],
   "metadata": {
    "collapsed": false,
    "ExecuteTime": {
     "end_time": "2024-03-21T03:43:20.858673251Z",
     "start_time": "2024-03-21T03:43:20.808423193Z"
    }
   },
   "id": "4bcb522e6b6b3814",
   "execution_count": 9
  }
 ],
 "metadata": {
  "kernelspec": {
   "display_name": "Python 3",
   "language": "python",
   "name": "python3"
  },
  "language_info": {
   "codemirror_mode": {
    "name": "ipython",
    "version": 2
   },
   "file_extension": ".py",
   "mimetype": "text/x-python",
   "name": "python",
   "nbconvert_exporter": "python",
   "pygments_lexer": "ipython2",
   "version": "2.7.6"
  }
 },
 "nbformat": 4,
 "nbformat_minor": 5
}
